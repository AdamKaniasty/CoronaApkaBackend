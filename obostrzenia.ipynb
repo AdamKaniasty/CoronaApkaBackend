{
 "cells": [
  {
   "cell_type": "code",
   "execution_count": 4,
   "metadata": {},
   "outputs": [],
   "source": [
    "import requests\n",
    "import unicodedata\n",
    "import pickle\n",
    "from bs4 import BeautifulSoup"
   ]
  },
  {
   "cell_type": "code",
   "execution_count": 5,
   "metadata": {},
   "outputs": [],
   "source": [
    "url=requests.get('https://www.gov.pl/web/koronawirus/regionalne-obostrzenia-dla-wybranych-powiatow')\n",
    "soup = BeautifulSoup(url.text, 'html.parser')\n",
    "lis=[]"
   ]
  },
  {
   "cell_type": "code",
   "execution_count": 6,
   "metadata": {},
   "outputs": [],
   "source": [
    "for points in soup.find_all('details'):\n",
    "        point = str(points.text)\n",
    "        point=point.split(\"\\n\")\n",
    "        filter(None, point)\n",
    "        lis.append(point)"
   ]
  },
  {
   "cell_type": "code",
   "execution_count": 7,
   "metadata": {},
   "outputs": [],
   "source": [
    "for i in range (0,len(lis),1):\n",
    "    del lis[i][-1:]\n",
    "    for j in range (0,len(lis[i]),1):\n",
    "        lis[i][j]=lis[i][j].replace(u'\\xa0', ' ').replace(u'\\u200b', ' ')"
   ]
  },
  {
   "cell_type": "code",
   "execution_count": 8,
   "metadata": {},
   "outputs": [],
   "source": [
    "for i in range (0,len(lis),1):\n",
    "    for j in range (0,lis[i].count(\"\"),1):\n",
    "        lis[i].remove(\"\")\n"
   ]
  },
  {
   "cell_type": "code",
   "execution_count": 9,
   "metadata": {},
   "outputs": [
    {
     "data": {
      "text/plain": [
       "['Przemieszczanie się osób',\n",
       " 'Strefa czerwona',\n",
       " 'Dzieci i młodzież do 16. roku życia',\n",
       " 'W godzinach 8:00-16:00 od poniedziałku do piątku istnieje dzieci i młodzież do 16. roku życia musi przemieszczać się pod opieką rodzica lub opiekuna. Zasada ta nie obowiązuje: kiedy dziecko idzie do szkoły lub wraca z niej do domu, a także w weekendy.',\n",
       " 'Seniorzy',\n",
       " 'Seniorze, zostań w domu! Apelujemy o ograniczenie przemieszczania się seniorów – zwłaszcza osób po 70. roku życia. Wyjątkiem są sytuacje związane z: ',\n",
       " '- wykonywaniem czynności zawodowych, ',\n",
       " '- zaspokajaniem niezbędnych potrzeb związanych z bieżącymi sprawami życia codziennego, ',\n",
       " '- sprawowaniem lub uczestniczeniem w sprawowaniu kultu religijnego, w tym czynności lub obrzędów religijnych. ']"
      ]
     },
     "execution_count": 9,
     "metadata": {},
     "output_type": "execute_result"
    }
   ],
   "source": [
    "lis[18]"
   ]
  },
  {
   "cell_type": "code",
   "execution_count": 10,
   "metadata": {},
   "outputs": [
    {
     "name": "stdout",
     "output_type": "stream",
     "text": [
      "[1]\n",
      "[1]\n",
      "[1]\n",
      "[1]\n",
      "[1]\n",
      "[1]\n",
      "[1]\n",
      "[1]\n",
      "[1]\n",
      "[1]\n",
      "[1]\n",
      "[1]\n",
      "[1]\n",
      "[1]\n",
      "[1]\n",
      "[1]\n",
      "[1]\n",
      "[1]\n",
      "[1]\n"
     ]
    }
   ],
   "source": [
    "for i in range (0,len(lis),1):\n",
    "    li=[]\n",
    "    for j in range (1,len(lis[i]),1):\n",
    "        if lis[i][j].startswith( 'Strefa' ) == 1:\n",
    "            li.append(j)\n",
    "    print(li)"
   ]
  },
  {
   "cell_type": "code",
   "execution_count": 13,
   "metadata": {},
   "outputs": [
    {
     "data": {
      "text/plain": [
       "'strefaczerwona'"
      ]
     },
     "execution_count": 13,
     "metadata": {},
     "output_type": "execute_result"
    }
   ],
   "source": [
    "lis[0][1].replace(\" \",\"\").lower()"
   ]
  },
  {
   "cell_type": "code",
   "execution_count": 18,
   "metadata": {},
   "outputs": [],
   "source": [
    "obostrzenia={\n",
    "   \"id1\":{\n",
    "        \"nazwa\":lis[0][0],\n",
    "        lis[0][1]:lis[0][2:]\n",
    "    },\n",
    "    \"id2\":{\n",
    "        \"nazwa\":lis[1][0],\n",
    "        lis[1][1]:lis[1][2:]\n",
    "    },\n",
    "    \"id3\":{\n",
    "        \"nazwa\":lis[2][0],\n",
    "        lis[2][1]:lis[2][2:]\n",
    "    },\n",
    "    \"id4\":{\n",
    "        \"nazwa\":lis[3][0],\n",
    "        lis[3][1]:lis[3][2:]\n",
    "    },\n",
    "    \"id5\":{\n",
    "        \"nazwa\":lis[4][0],\n",
    "        lis[4][1]:lis[4][2:]\n",
    "    },\n",
    "    \"id6\":{\n",
    "        \"nazwa\":lis[5][0],\n",
    "        lis[5][1]:lis[5][2:]\n",
    "    },\n",
    "    \"id7\":{\n",
    "        \"nazwa\":lis[6][0],\n",
    "        lis[6][1]:lis[6][2:]\n",
    "    },\n",
    "    \"id8\":{\n",
    "        \"nazwa\":lis[7][0],\n",
    "        lis[7][1]:lis[7][2:]\n",
    "    },\n",
    "    \"id9\":{\n",
    "        \"nazwa\":lis[8][0],\n",
    "        lis[8][1]:lis[8][2:]\n",
    "    },\n",
    "    \"id10\":{\n",
    "        \"nazwa\":lis[9][0],\n",
    "        lis[9][1]:lis[9][2:]\n",
    "    },\n",
    "    \"id11\":{\n",
    "        \"nazwa\":lis[10][0],\n",
    "        lis[10][1]:lis[10][2:]\n",
    "    },\n",
    "    \"id12\":{\n",
    "        \"nazwa\":lis[11][0],\n",
    "        lis[11][1]:lis[11][2:]\n",
    "    },\n",
    "    \"id13\":{\n",
    "        \"nazwa\":lis[12][0],\n",
    "        lis[12][1]:lis[12][2:]\n",
    "    },\n",
    "    \"id14\":{\n",
    "        \"nazwa\":lis[13][0],\n",
    "        lis[13][1]:lis[13][2:]\n",
    "    },\n",
    "    \"id15\":{\n",
    "        \"nazwa\":lis[14][0],\n",
    "        lis[14][1]:lis[14][2:]\n",
    "    },\n",
    "    \"id16\":{\n",
    "        \"nazwa\":lis[15][0],\n",
    "        lis[15][1]:lis[15][2:]\n",
    "    },\n",
    "    \"id17\":{\n",
    "        \"nazwa\":lis[16][0],\n",
    "        lis[16][1]:lis[16][2:]\n",
    "    },\n",
    "    \"id18\":{\n",
    "        \"nazwa\":lis[17][0],\n",
    "        lis[17][1]:lis[17][2:]\n",
    "    },\n",
    "    \"id19\":{\n",
    "        \"nazwa\":lis[18][0],\n",
    "        lis[18][1]:lis[18][2:]\n",
    "    },\n",
    "\n",
    "}"
   ]
  },
  {
   "cell_type": "code",
   "execution_count": null,
   "metadata": {},
   "outputs": [],
   "source": []
  }
 ],
 "metadata": {
  "kernelspec": {
   "display_name": "Python 3",
   "language": "python",
   "name": "python3"
  },
  "language_info": {
   "codemirror_mode": {
    "name": "ipython",
    "version": 3
   },
   "file_extension": ".py",
   "mimetype": "text/x-python",
   "name": "python",
   "nbconvert_exporter": "python",
   "pygments_lexer": "ipython3",
   "version": "3.7.4"
  }
 },
 "nbformat": 4,
 "nbformat_minor": 4
}

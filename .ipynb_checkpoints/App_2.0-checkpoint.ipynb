{
 "cells": [
  {
   "cell_type": "code",
   "execution_count": 582,
   "metadata": {},
   "outputs": [],
   "source": [
    "import requests\n",
    "import random\n",
    "import pickle\n",
    "from colormap import rgb2hex\n",
    "import sklearn\n",
    "from sklearn.preprocessing import PolynomialFeatures\n",
    "from datetime import date, timedelta\n",
    "from bs4 import BeautifulSoup\n",
    "import numpy as np\n",
    "import requests\n",
    "import os\n",
    "import pandas as pd\n",
    "import firebase_admin\n",
    "from sklearn.linear_model import LinearRegression\n",
    "from os import listdir\n",
    "from os.path import isfile, join\n",
    "import matplotlib.pyplot as plt\n",
    "from firebase_admin import db\n",
    "from firebase_admin import credentials\n",
    "from firebase_admin import firestore\n",
    "url=requests.get('https://www.gov.pl/web/koronawirus/wykaz-zarazen-koronawirusem-sars-cov-2')\n",
    "soup = BeautifulSoup(url.text, 'html.parser')"
   ]
  },
  {
   "cell_type": "code",
   "execution_count": 583,
   "metadata": {},
   "outputs": [],
   "source": [
    "today = date.today()\n",
    "yesterday=date.today()-timedelta(days=1)\n",
    "dzis = today.strftime(\"%m/%d/%Y\")\n",
    "wczoraj= yesterday.strftime(\"%m/%d/%Y\")\n",
    "dzis = dzis.replace(\"/\",\".\")\n",
    "wczoraj = wczoraj.replace(\"/\",\".\")"
   ]
  },
  {
   "cell_type": "code",
   "execution_count": 584,
   "metadata": {},
   "outputs": [],
   "source": [
    "t = []\n",
    "for points in soup.find_all('dd'):\n",
    "    point = str(points.text)\n",
    "    t.append(point)\n",
    "t=t[:2]"
   ]
  },
  {
   "cell_type": "code",
   "execution_count": 585,
   "metadata": {},
   "outputs": [],
   "source": [
    "for points in soup.find_all('pre'):\n",
    "    point = str(points.text)\n",
    "data = point.replace(\"\\\\r\\\\n\",\";\")\n",
    "data = data.replace(\"\\\\\",\" \")\n",
    "x=data.find(\"data\")+181\n",
    "y=data.find(\"parsedData\")-4\n",
    "data=data[x:y]\n",
    "data = data.split(';')\n",
    "data = [x for x in data if not x.startswith('t')]"
   ]
  },
  {
   "cell_type": "code",
   "execution_count": 586,
   "metadata": {},
   "outputs": [],
   "source": [
    "nazwa=[]\n",
    "zachorowania=[]\n",
    "zgony=[]\n",
    "zachorowaniaD=[]\n",
    "zgonyD=[]\n",
    "strefa=[]\n",
    "color=[]\n",
    "predZachorowania=[]\n",
    "predZgony=[]\n",
    "percentage=[]"
   ]
  },
  {
   "cell_type": "code",
   "execution_count": 587,
   "metadata": {},
   "outputs": [],
   "source": [
    "cnt=1\n",
    "for i in data:\n",
    "    if cnt==1:\n",
    "        nazwa.append(i)\n",
    "    if cnt==2:\n",
    "        zachorowaniaD.append(i)\n",
    "    if cnt==3:\n",
    "        percentage.append(i)\n",
    "    if cnt==4:\n",
    "        zgonyD.append(i)\n",
    "    cnt=cnt+1\n",
    "    if cnt==7:\n",
    "        cnt=1"
   ]
  },
  {
   "cell_type": "code",
   "execution_count": 588,
   "metadata": {},
   "outputs": [],
   "source": [
    "ids=[\"id16\",\"id4\",\"id11\",\"id6\",\"id10\",\"id7\",\"id1\",\"id8\",\"id3\",\"id0\",\"id12\",\"id15\",\"id2\",\"id5\",\"id14\",\"id9\",\"id13\"]"
   ]
  },
  {
   "cell_type": "code",
   "execution_count": 589,
   "metadata": {},
   "outputs": [],
   "source": [
    "zachorowania=[1257799,86031,80655,63744,29953,82190,10701,15124,35693,58455,32952,77609,15170,34468,50070,12663,58649]\n",
    "zgony=[27118,1865,1374,1687,640,1799,2591,3224,985,1771,782,1442,3248,889,1081,2735,948]"
   ]
  },
  {
   "cell_type": "code",
   "execution_count": 590,
   "metadata": {},
   "outputs": [],
   "source": [
    "# with open(\"data/{}.txt\".format(wczoraj), 'rb') as f:\n",
    "#     dataWczoraj = pickle.load(f)\n",
    "# for i in range(0,17,1):\n",
    "#     zachorowania[i]=dataWczoraj[ids[i]][\"Liczba\"]+int(zachorowaniaD[i])"
   ]
  },
  {
   "cell_type": "code",
   "execution_count": 591,
   "metadata": {},
   "outputs": [],
   "source": [
    "r=255\n",
    "g=47\n",
    "b=47\n",
    "for i in range(0,17,1):\n",
    "    percentage[i]=float(percentage[i].replace(\",\",\".\"))\n",
    "ma=max(percentage)\n",
    "for i in range(0,17,1): \n",
    "    r=255\n",
    "    r=round(r*(percentage[i]/ma))\n",
    "    color.append(rgb2hex(r,g,b))"
   ]
  },
  {
   "cell_type": "code",
   "execution_count": 592,
   "metadata": {},
   "outputs": [
    {
     "name": "stdout",
     "output_type": "stream",
     "text": [
      "1\n"
     ]
    }
   ],
   "source": [
    "count = 0\n",
    "d = \"data/\"\n",
    "for path in os.listdir(d):\n",
    "    if os.path.isfile(os.path.join(d, path)):\n",
    "        count += 1\n",
    "print (count)\n",
    "onlyfiles = [f for f in listdir(\"data/\") if isfile(join(\"data/\", f))]\n",
    "arr=np.zeros(shape=(17,count))\n",
    "arr2=np.zeros(shape=(17,count))\n",
    "cnt=0\n",
    "for i in onlyfiles:\n",
    "    with open(\"data/{}\".format(i), 'rb') as f:\n",
    "        data = pickle.load(f)\n",
    "        for j in range(0,17,1):\n",
    "            arr[j][cnt]=data[ids[j]]['Bilanszachorowań']\n",
    "            arr2[j][cnt]=data[ids[j]]['Bilanszgonów']\n",
    "    cnt=cnt+1"
   ]
  },
  {
   "cell_type": "code",
   "execution_count": 593,
   "metadata": {},
   "outputs": [],
   "source": [
    "models=[]\n",
    "models2=[]\n",
    "for i in range(0,17,1):\n",
    "    models.append(LinearRegression().fit(np.arange(count).reshape(-1, 1), arr[i]))\n",
    "    models2.append(LinearRegression().fit(np.arange(count).reshape(-1, 1), arr2[i]))"
   ]
  },
  {
   "cell_type": "code",
   "execution_count": 600,
   "metadata": {},
   "outputs": [
    {
     "data": {
      "text/plain": [
       "[3678.0]"
      ]
     },
     "execution_count": 600,
     "metadata": {},
     "output_type": "execute_result"
    }
   ],
   "source": [
    "models[0].predict([[count+1]]).tolist()"
   ]
  },
  {
   "cell_type": "code",
   "execution_count": 594,
   "metadata": {},
   "outputs": [],
   "source": [
    "dataAll={}\n",
    "for i in range(0,17,1):\n",
    "    dataAll[ids[i]]={\n",
    "        \"nazwa\":nazwa[i],\n",
    "        \"color\":color[i],\n",
    "        \"Bilanszgonów\":zgonyD[i],\n",
    "        \"Bilanszachorowań\":zachorowaniaD[i],\n",
    "        \"Liczba\":zachorowania[i],\n",
    "        \"Liczbazgonów\":zgony[i],\n",
    "        \"strefa\":\"Strefa Czerwona\"\n",
    "    }"
   ]
  },
  {
   "cell_type": "code",
   "execution_count": 595,
   "metadata": {},
   "outputs": [],
   "source": [
    "file = open('data/{}.txt'.format(dzis), 'wb')\n",
    "pickle.dump(dataAll, file)\n",
    "file.close()"
   ]
  }
 ],
 "metadata": {
  "kernelspec": {
   "display_name": "Python 3",
   "language": "python",
   "name": "python3"
  },
  "language_info": {
   "codemirror_mode": {
    "name": "ipython",
    "version": 3
   },
   "file_extension": ".py",
   "mimetype": "text/x-python",
   "name": "python",
   "nbconvert_exporter": "python",
   "pygments_lexer": "ipython3",
   "version": "3.8.5"
  }
 },
 "nbformat": 4,
 "nbformat_minor": 4
}
